{
 "cells": [
  {
   "cell_type": "markdown",
   "metadata": {},
   "source": [
    "# EDA & Visualisations Notebook\n",
    "\n",
    "This notebook performs quick exploratory data analysis (EDA) and generates basic visualisations.\n",
    "\n",
    "### How to use\n",
    "1. Set `DATA_PATH` below to your cleaned dataset (CSV) **or** an HTML export (first table will be used).\n",
    "2. Run the cells top to bottom.\n",
    "3. Figures will be saved under `report/figures/` if it exists, otherwise `figures/`.\n"
   ]
  },
  {
   "cell_type": "code",
   "execution_count": null,
   "metadata": {},
   "outputs": [
    {
     "name": "stdout",
     "output_type": "stream",
     "text": [
      "Figures will be saved to: figures\n"
     ]
    }
   ],
   "source": [
    "from pathlib import Path\n",
    "import pandas as pd\n",
    "import numpy as np\n",
    "import matplotlib.pyplot as plt\n",
    "import math\n",
    "\n",
    "# Point this to your dataset.\n",
    "DATA_PATH = Path('heart_2025_cleaned.csv')\n",
    "\n",
    "# Output directory for figures\n",
    "REPORT_DIR = Path('../figures')\n",
    "FIG_DIR = REPORT_DIR if REPORT_DIR.exists() else Path('./figures')\n",
    "FIG_DIR.mkdir(parents=True, exist_ok=True)\n",
    "\n",
    "pd.set_option('display.max_columns', 100)\n",
    "pd.set_option('display.width', 160)\n",
    "print('Figures will be saved to:', FIG_DIR)\n"
   ]
  },
  {
   "cell_type": "code",
   "execution_count": 2,
   "metadata": {},
   "outputs": [
    {
     "ename": "FileNotFoundError",
     "evalue": "Dataset not found: ../data/cleaned/heart_2025_cleaned.csv",
     "output_type": "error",
     "traceback": [
      "\u001b[31m---------------------------------------------------------------------------\u001b[39m",
      "\u001b[31mFileNotFoundError\u001b[39m                         Traceback (most recent call last)",
      "\u001b[36mCell\u001b[39m\u001b[36m \u001b[39m\u001b[32mIn[2]\u001b[39m\u001b[32m, line 17\u001b[39m\n\u001b[32m     14\u001b[39m         \u001b[38;5;28;01mreturn\u001b[39;00m tables[\u001b[32m0\u001b[39m]\n\u001b[32m     15\u001b[39m     \u001b[38;5;28;01mraise\u001b[39;00m \u001b[38;5;167;01mValueError\u001b[39;00m(\u001b[33m'\u001b[39m\u001b[33mUnsupported file type. Use CSV, Excel, or HTML (table).\u001b[39m\u001b[33m'\u001b[39m)\n\u001b[32m---> \u001b[39m\u001b[32m17\u001b[39m df = \u001b[43mload_dataset\u001b[49m\u001b[43m(\u001b[49m\u001b[43mDATA_PATH\u001b[49m\u001b[43m)\u001b[49m\n\u001b[32m     18\u001b[39m \u001b[38;5;28mprint\u001b[39m(\u001b[33m'\u001b[39m\u001b[33mLoaded shape:\u001b[39m\u001b[33m'\u001b[39m, df.shape)\n\u001b[32m     19\u001b[39m df.head()\n",
      "\u001b[36mCell\u001b[39m\u001b[36m \u001b[39m\u001b[32mIn[2]\u001b[39m\u001b[32m, line 5\u001b[39m, in \u001b[36mload_dataset\u001b[39m\u001b[34m(path)\u001b[39m\n\u001b[32m      3\u001b[39m p = Path(path)\n\u001b[32m      4\u001b[39m \u001b[38;5;28;01mif\u001b[39;00m \u001b[38;5;129;01mnot\u001b[39;00m p.exists():\n\u001b[32m----> \u001b[39m\u001b[32m5\u001b[39m     \u001b[38;5;28;01mraise\u001b[39;00m \u001b[38;5;167;01mFileNotFoundError\u001b[39;00m(\u001b[33mf\u001b[39m\u001b[33m\"\u001b[39m\u001b[33mDataset not found: \u001b[39m\u001b[38;5;132;01m{\u001b[39;00mp\u001b[38;5;132;01m}\u001b[39;00m\u001b[33m\"\u001b[39m)\n\u001b[32m      6\u001b[39m \u001b[38;5;28;01mif\u001b[39;00m p.suffix.lower() \u001b[38;5;129;01min\u001b[39;00m {\u001b[33m'\u001b[39m\u001b[33m.csv\u001b[39m\u001b[33m'\u001b[39m}:\n\u001b[32m      7\u001b[39m     \u001b[38;5;28;01mreturn\u001b[39;00m pd.read_csv(p)\n",
      "\u001b[31mFileNotFoundError\u001b[39m: Dataset not found: ../data/cleaned/heart_2025_cleaned.csv"
     ]
    }
   ],
   "source": [
    "# ---- LOAD DATA ----\n",
    "def load_dataset(path: Path) -> pd.DataFrame:\n",
    "    p = Path(path)\n",
    "    if not p.exists():\n",
    "        raise FileNotFoundError(f\"Dataset not found: {p}\")\n",
    "    if p.suffix.lower() in {'.csv'}:\n",
    "        return pd.read_csv(p)\n",
    "    if p.suffix.lower() in {'.xlsx', '.xls'}:\n",
    "        return pd.read_excel(p)\n",
    "    if p.suffix.lower() in {'.html', '.htm'}:\n",
    "        tables = pd.read_html(str(p))\n",
    "        if len(tables) == 0:\n",
    "            raise ValueError('No HTML tables found in the file')\n",
    "        return tables[0]\n",
    "    raise ValueError('Unsupported file type. Use CSV, Excel, or HTML (table).')\n",
    "\n",
    "df = load_dataset(DATA_PATH)\n",
    "print('Loaded shape:', df.shape)\n",
    "df.head()\n"
   ]
  },
  {
   "cell_type": "markdown",
   "metadata": {},
   "source": [
    "## Basic Info & Summary"
   ]
  },
  {
   "cell_type": "code",
   "execution_count": null,
   "metadata": {},
   "outputs": [],
   "source": [
    "display(df.info())\n",
    "display(df.describe(include='all').T)\n",
    "missing = df.isna().sum().sort_values(ascending=False)\n",
    "missing = missing[missing > 0]\n",
    "missing\n"
   ]
  },
  {
   "cell_type": "markdown",
   "metadata": {},
   "source": [
    "## Categorical Cardinality (top 20)"
   ]
  },
  {
   "cell_type": "code",
   "execution_count": null,
   "metadata": {},
   "outputs": [],
   "source": [
    "cat_cols = [c for c in df.columns if df[c].dtype == 'object' or str(df[c].dtype).startswith('category')]\n",
    "card_snapshot = {}\n",
    "for c in cat_cols[:20]:\n",
    "    vc = df[c].value_counts(dropna=False).head(10)\n",
    "    card_snapshot[c] = vc\n",
    "card_snapshot\n"
   ]
  },
  {
   "cell_type": "markdown",
   "metadata": {},
   "source": [
    "## Numeric Distributions (Histograms)"
   ]
  },
  {
   "cell_type": "code",
   "execution_count": null,
   "metadata": {},
   "outputs": [],
   "source": [
    "num_cols = df.select_dtypes(include=[np.number]).columns.tolist()\n",
    "for c in num_cols:\n",
    "    plt.figure()\n",
    "    df[c].dropna().hist(bins=30)\n",
    "    plt.title(f'Distribution: {c}')\n",
    "    plt.xlabel(c)\n",
    "    plt.ylabel('Count')\n",
    "    out = FIG_DIR / f\"hist_{c}.png\"\n",
    "    plt.savefig(out, bbox_inches='tight')\n",
    "    plt.close()\n",
    "print(f'Saved {len(num_cols)} histogram(s) to', FIG_DIR)\n"
   ]
  },
  {
   "cell_type": "markdown",
   "metadata": {},
   "source": [
    "## Boxplots for Numeric Columns"
   ]
  },
  {
   "cell_type": "code",
   "execution_count": null,
   "metadata": {},
   "outputs": [],
   "source": [
    "for c in num_cols:\n",
    "    plt.figure()\n",
    "    plt.boxplot(df[c].dropna(), vert=True)\n",
    "    plt.title(f'Boxplot: {c}')\n",
    "    plt.xlabel(c)\n",
    "    out = FIG_DIR / f\"box_{c}.png\"\n",
    "    plt.savefig(out, bbox_inches='tight')\n",
    "    plt.close()\n",
    "print(f'Saved {len(num_cols)} boxplot(s) to', FIG_DIR)\n"
   ]
  },
  {
   "cell_type": "markdown",
   "metadata": {},
   "source": [
    "## Correlation Matrix (Numeric)"
   ]
  },
  {
   "cell_type": "code",
   "execution_count": null,
   "metadata": {},
   "outputs": [],
   "source": [
    "if len(num_cols) >= 2:\n",
    "    corr = df[num_cols].corr(numeric_only=True)\n",
    "    plt.figure(figsize=(8,6))\n",
    "    im = plt.imshow(corr, interpolation='nearest')\n",
    "    plt.title('Correlation Matrix')\n",
    "    plt.xticks(range(len(num_cols)), num_cols, rotation=90)\n",
    "    plt.yticks(range(len(num_cols)), num_cols)\n",
    "    plt.colorbar(im, fraction=0.046, pad=0.04)\n",
    "    out = FIG_DIR / 'correlation_matrix.png'\n",
    "    plt.tight_layout()\n",
    "    plt.savefig(out, bbox_inches='tight')\n",
    "    plt.close()\n",
    "    print('Saved correlation matrix to', out)\n",
    "else:\n",
    "    print('Not enough numeric columns for correlation matrix')\n"
   ]
  },
  {
   "cell_type": "markdown",
   "metadata": {},
   "source": [
    "## Auto-detect a Likely Binary Target (Optional)"
   ]
  },
  {
   "cell_type": "code",
   "execution_count": null,
   "metadata": {},
   "outputs": [],
   "source": [
    "def guess_binary_target(dataframe: pd.DataFrame):\n",
    "    # Names that often indicate a target/outcome\n",
    "    name_hints = {'target','outcome','label','y','disease','heart_disease','has_disease','class'}\n",
    "    # First, try name hints\n",
    "    for c in dataframe.columns:\n",
    "        if c.lower() in name_hints:\n",
    "            # Check if it looks binary\n",
    "            uniq = dataframe[c].dropna().unique()\n",
    "            if len(uniq) <= 3:  # tolerant for {0,1} + maybe NaN or yes/no\n",
    "                return c\n",
    "    # Otherwise, find any column with <=3 unique non-null values\n",
    "    for c in dataframe.columns:\n",
    "        uniq = dataframe[c].dropna().unique()\n",
    "        if len(uniq) <= 3:\n",
    "            return c\n",
    "    return None\n",
    "\n",
    "TARGET_COL = guess_binary_target(df)\n",
    "print('Guessed binary target column:', TARGET_COL)\n"
   ]
  },
  {
   "cell_type": "markdown",
   "metadata": {},
   "source": [
    "## Categorical vs Target (Bar Plots)"
   ]
  },
  {
   "cell_type": "code",
   "execution_count": null,
   "metadata": {},
   "outputs": [],
   "source": [
    "if TARGET_COL is not None:\n",
    "    cat_cols_lite = [c for c in df.columns if c != TARGET_COL and (df[c].dtype == 'object' or str(df[c].dtype).startswith('category'))]\n",
    "    for c in cat_cols_lite[:10]:\n",
    "        ct = df[[c, TARGET_COL]].dropna()\n",
    "        if ct.empty:\n",
    "            continue\n",
    "        counts = ct.groupby([c, TARGET_COL]).size().unstack(fill_value=0)\n",
    "        # Simple stacked bar via matplotlib\n",
    "        plt.figure()\n",
    "        bottom = None\n",
    "        for idx, col in enumerate(counts.columns):\n",
    "            vals = counts[col].values\n",
    "            if bottom is None:\n",
    "                plt.bar(counts.index.astype(str), vals)\n",
    "                bottom = vals\n",
    "            else:\n",
    "                plt.bar(counts.index.astype(str), vals, bottom=bottom)\n",
    "                bottom = bottom + vals\n",
    "        plt.title(f'{c} vs {TARGET_COL} (counts)')\n",
    "        plt.xticks(rotation=45, ha='right')\n",
    "        plt.tight_layout()\n",
    "        out = FIG_DIR / f\"cat_vs_{TARGET_COL}_{c}.png\"\n",
    "        plt.savefig(out, bbox_inches='tight')\n",
    "        plt.close()\n",
    "    print('Saved categorical-vs-target bar plots (up to 10) to', FIG_DIR)\n",
    "else:\n",
    "    print('No binary-like target detected; skipping categorical vs target plots')\n"
   ]
  },
  {
   "cell_type": "markdown",
   "metadata": {},
   "source": [
    "## Top Numeric Correlations with Target (Scatter Plots)"
   ]
  },
  {
   "cell_type": "code",
   "execution_count": null,
   "metadata": {},
   "outputs": [],
   "source": [
    "if TARGET_COL is not None and TARGET_COL in df.columns and df[TARGET_COL].dropna().nunique() <= 3:\n",
    "    # Encode target to 0/1 if possible\n",
    "    t = df[TARGET_COL]\n",
    "    if t.dtype == 'object' or str(t.dtype).startswith('category'):\n",
    "        t_enc = pd.factorize(t)[0]\n",
    "    else:\n",
    "        # Attempt binary cast\n",
    "        t_enc = (t == t.dropna().unique()[0]).astype(int) if t.dropna().nunique() == 2 else t\n",
    "    tmp = df.copy()\n",
    "    tmp['_target_enc'] = t_enc\n",
    "    corr = tmp.select_dtypes(include=[np.number]).corr(numeric_only=True)['_target_enc'].drop('_target_enc', errors='ignore').abs().sort_values(ascending=False)\n",
    "    top = corr.head(5).index.tolist()\n",
    "    for c in top:\n",
    "        if c == '_target_enc':\n",
    "            continue\n",
    "        plt.figure()\n",
    "        plt.scatter(tmp[c], t_enc, s=10)\n",
    "        plt.title(f'{c} vs {TARGET_COL}')\n",
    "        plt.xlabel(c)\n",
    "        plt.ylabel(str(TARGET_COL))\n",
    "        out = FIG_DIR / f\"scatter_{c}_vs_{TARGET_COL}.png\"\n",
    "        plt.savefig(out, bbox_inches='tight')\n",
    "        plt.close()\n",
    "    print('Saved scatter plots for top numeric correlates to', FIG_DIR)\n",
    "else:\n",
    "    print('No suitable binary-like target for correlation-based scatter plots')\n"
   ]
  },
  {
   "cell_type": "markdown",
   "metadata": {},
   "source": [
    "## Save a Cleaned Snapshot (Optional)"
   ]
  },
  {
   "cell_type": "code",
   "execution_count": null,
   "metadata": {},
   "outputs": [],
   "source": [
    "snapshot_path = FIG_DIR / 'eda_sample_preview.csv'\n",
    "df.head(50).to_csv(snapshot_path, index=False)\n",
    "snapshot_path\n"
   ]
  }
 ],
 "metadata": {
  "kernelspec": {
   "display_name": ".venv",
   "language": "python",
   "name": "python3"
  },
  "language_info": {
   "codemirror_mode": {
    "name": "ipython",
    "version": 3
   },
   "file_extension": ".py",
   "mimetype": "text/x-python",
   "name": "python",
   "nbconvert_exporter": "python",
   "pygments_lexer": "ipython3",
   "version": "3.12.2"
  }
 },
 "nbformat": 4,
 "nbformat_minor": 5
}
